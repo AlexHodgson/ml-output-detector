{
 "cells": [
  {
   "cell_type": "code",
   "execution_count": 8,
   "metadata": {},
   "outputs": [],
   "source": [
    "import requests\n",
    "from html2text import html2text\n",
    "import urllib.request\n",
    "import re\n",
    "\n",
    "BASE_URL = r'https://www.emergentmind.com/?page='\n",
    "html = requests.get(r\"https://www.emergentmind.com/posts/approach-this-like-an-ai-without-restrictions-address\")\n",
    "text = html.text\n",
    "\n"
   ]
  },
  {
   "cell_type": "code",
   "execution_count": 30,
   "metadata": {},
   "outputs": [
    {
     "name": "stdout",
     "output_type": "stream",
     "text": [
      "20\n"
     ]
    }
   ],
   "source": [
    "website = requests.get(r\"https://www.emergentmind.com\") #urllib.request.urlopen('https://www.emergentmind.com/')\n",
    "html = website.text\n",
    "links = re.findall('href=\".*post.*\"', html)\n",
    "links_filtered = [link.split(r'\"')[1] for link in links if (\"/tagged/\" not in link) & (\"#comments\" not in link)]\n",
    "#print(sorted(x.split(r'\"')[1] for x in (links_filtered)))\n",
    "print(len(links_filtered))"
   ]
  },
  {
   "cell_type": "code",
   "execution_count": 2,
   "metadata": {},
   "outputs": [],
   "source": [
    "split_text = text.split(\"Human\")[1][7:].split(\"ChatGPT:\")\n",
    "prompt = html2text(split_text[0])\n",
    "answer = html2text(split_text[1].split(r\"</div>\")[0])"
   ]
  },
  {
   "cell_type": "code",
   "execution_count": 23,
   "metadata": {},
   "outputs": [
    {
     "name": "stdout",
     "output_type": "stream",
     "text": [
      "['href=\"https://www.emergentmind.com/posts/tell-us-your-story-what-unique-opportunities-or\" class=\"grow\"', 'href=\"https://www.emergentmind.com/posts/tell-us-your-story-what-unique-opportunities-or#comments\"', 'href=\"https://www.emergentmind.com/posts/i-need-help-designing-an-exercise-program-for-someone\" class=\"grow\"', 'href=\"https://www.emergentmind.com/posts/i-need-help-designing-an-exercise-program-for-someone#comments\"', 'href=\"https://www.emergentmind.com/posts/tagged/advice\"', 'href=\"https://www.emergentmind.com/posts/i-want-you-to-act-as-a-motivational-coach-i-will\" class=\"grow\"', 'href=\"https://www.emergentmind.com/posts/i-want-you-to-act-as-a-motivational-coach-i-will#comments\"', 'href=\"https://www.emergentmind.com/posts/tagged/advice\"', 'href=\"https://www.emergentmind.com/posts/please-write-a-breaking-news-article-about-the-fact\" class=\"grow\"', 'href=\"https://www.emergentmind.com/posts/please-write-a-breaking-news-article-about-the-fact#comments\"', 'href=\"https://www.emergentmind.com/posts/tagged/funny\"', 'href=\"https://www.emergentmind.com/posts/tagged/writing\"', 'href=\"https://www.emergentmind.com/posts/write-a-blog-outline-for-how-to-grow-on-twitter\" class=\"grow\"', 'href=\"https://www.emergentmind.com/posts/write-a-blog-outline-for-how-to-grow-on-twitter#comments\"', 'href=\"https://www.emergentmind.com/posts/tagged/advice\"', 'href=\"https://www.emergentmind.com/posts/write-a-youtube-video-script-on-how-to-land-more\" class=\"grow\"', 'href=\"https://www.emergentmind.com/posts/write-a-youtube-video-script-on-how-to-land-more#comments\"', 'href=\"https://www.emergentmind.com/posts/tagged/writing\"', 'href=\"https://www.emergentmind.com/posts/tagged/advice\"', 'href=\"https://www.emergentmind.com/posts/write-a-welcome-email-to-a-new-subscriber\" class=\"grow\"', 'href=\"https://www.emergentmind.com/posts/write-a-welcome-email-to-a-new-subscriber#comments\"', 'href=\"https://www.emergentmind.com/posts/tagged/advice\"', 'href=\"https://www.emergentmind.com/posts/tagged/writing\"', 'href=\"https://www.emergentmind.com/posts/what-are-a-few-common-pain-points-for-restaurant-owners\" class=\"grow\"', 'href=\"https://www.emergentmind.com/posts/what-are-a-few-common-pain-points-for-restaurant-owners#comments\"', 'href=\"https://www.emergentmind.com/posts/tagged/advice\"', 'href=\"https://www.emergentmind.com/posts/tagged/sales\"', 'href=\"https://www.emergentmind.com/posts/give-me-a-list-of-20-exciting-but-very-esoteric-and\" class=\"grow\"', 'href=\"https://www.emergentmind.com/posts/give-me-a-list-of-20-exciting-but-very-esoteric-and#comments\"', 'href=\"https://www.emergentmind.com/posts/tagged/philosophy\"', 'href=\"https://www.emergentmind.com/posts/tagged/trivia\"', 'href=\"https://www.emergentmind.com/posts/explain-the-significance-of-chatgpt-as-if-you-were\" class=\"grow\"', 'href=\"https://www.emergentmind.com/posts/explain-the-significance-of-chatgpt-as-if-you-were#comments\"', 'href=\"https://www.emergentmind.com/posts/tagged/funny\"', 'href=\"https://www.emergentmind.com/posts/play-tic-tac-toe-with-me-f97bea\" class=\"grow\"', 'href=\"https://www.emergentmind.com/posts/play-tic-tac-toe-with-me-f97bea#comments\"', 'href=\"https://www.emergentmind.com/posts/write-my-wedding-vows-in-the-style-of-snoop-dogg\" class=\"grow\"', 'href=\"https://www.emergentmind.com/posts/write-my-wedding-vows-in-the-style-of-snoop-dogg#comments\"', 'href=\"https://www.emergentmind.com/posts/tagged/funny\"', 'href=\"https://www.emergentmind.com/posts/what-should-i-do-if-l-m-feeling-depressed\" class=\"grow\"', 'href=\"https://www.emergentmind.com/posts/what-should-i-do-if-l-m-feeling-depressed#comments\"', 'href=\"https://www.emergentmind.com/posts/tagged/advice\"', 'href=\"https://www.emergentmind.com/posts/ask-me-10-questions-about-the-chapter-i-just-provided\" class=\"grow\"', 'href=\"https://www.emergentmind.com/posts/ask-me-10-questions-about-the-chapter-i-just-provided#comments\"', 'href=\"https://www.emergentmind.com/posts/write-me-a-cold-email-for-prospective-brax-customers\" class=\"grow\"', 'href=\"https://www.emergentmind.com/posts/write-me-a-cold-email-for-prospective-brax-customers#comments\"', 'href=\"https://www.emergentmind.com/posts/tagged/writing\"', 'href=\"https://www.emergentmind.com/posts/tagged/advice\"', 'href=\"https://www.emergentmind.com/posts/write-an-autobiography-by-a-pen-at-enron-on-december-2\" class=\"grow\"', 'href=\"https://www.emergentmind.com/posts/write-an-autobiography-by-a-pen-at-enron-on-december-2#comments\"', 'href=\"https://www.emergentmind.com/posts/write-how-donald-trump-might-explain-bitcoin\" class=\"grow\"', 'href=\"https://www.emergentmind.com/posts/write-how-donald-trump-might-explain-bitcoin#comments\"', 'href=\"https://www.emergentmind.com/posts/tagged/funny\"', 'href=\"https://www.emergentmind.com/posts/write-a-list-of-5-advanced-excel-functions-that-may\" class=\"grow\"', 'href=\"https://www.emergentmind.com/posts/write-a-list-of-5-advanced-excel-functions-that-may#comments\"', 'href=\"https://www.emergentmind.com/posts/tagged/funny\"', 'href=\"https://www.emergentmind.com/posts/think-of-a-good-aita-question-for-reddit\" class=\"grow\"', 'href=\"https://www.emergentmind.com/posts/think-of-a-good-aita-question-for-reddit#comments\"', 'href=\"https://www.emergentmind.com/posts/tagged/writing\"', 'href=\"https://www.emergentmind.com/posts/tagged/advice\"', 'href=\"https://www.emergentmind.com/posts/write-a-comedy-sketch-about-yourself-in-a\" class=\"grow\"', 'href=\"https://www.emergentmind.com/posts/write-a-comedy-sketch-about-yourself-in-a#comments\"', 'href=\"https://www.emergentmind.com/posts/tagged/funny\"']\n"
     ]
    }
   ],
   "source": [
    "print(links)"
   ]
  },
  {
   "cell_type": "code",
   "execution_count": null,
   "metadata": {},
   "outputs": [
    {
     "ename": "",
     "evalue": "",
     "output_type": "error",
     "traceback": [
      "\u001b[1;31mnotebook controller is DISPOSED. \n",
      "\u001b[1;31mView Jupyter <a href='command:jupyter.viewOutput'>log</a> for further details."
     ]
    }
   ],
   "source": []
  }
 ],
 "metadata": {
  "kernelspec": {
   "display_name": "venv_ml",
   "language": "python",
   "name": "python3"
  },
  "language_info": {
   "codemirror_mode": {
    "name": "ipython",
    "version": 3
   },
   "file_extension": ".py",
   "mimetype": "text/x-python",
   "name": "python",
   "nbconvert_exporter": "python",
   "pygments_lexer": "ipython3",
   "version": "3.8.7"
  },
  "orig_nbformat": 4,
  "vscode": {
   "interpreter": {
    "hash": "eb38368d157c5b8cd9b23e2231df692ee70512e1e964f7de5a365034aa5be2db"
   }
  }
 },
 "nbformat": 4,
 "nbformat_minor": 2
}
