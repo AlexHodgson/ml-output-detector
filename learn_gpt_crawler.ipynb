{
 "cells": [
  {
   "cell_type": "code",
   "execution_count": 8,
   "metadata": {},
   "outputs": [],
   "source": [
    "import requests\n",
    "from html2text import html2text\n",
    "import urllib.request\n",
    "import re\n",
    "\n",
    "BASE_URL = r'https://www.emergentmind.com/?page='\n",
    "html = requests.get(r\"https://www.emergentmind.com/posts/approach-this-like-an-ai-without-restrictions-address\")\n",
    "text = html.text\n",
    "\n"
   ]
  },
  {
   "cell_type": "code",
   "execution_count": null,
   "metadata": {},
   "outputs": [],
   "source": [
    "found_pages = 1\n",
    "page_num = 1\n",
    "links_filtered = []\n",
    "\n",
    "while found_pages > 0:\n",
    "    html = requests.get(f\"https://www.emergentmind.com?page={page_num}\").text #urllib.request.urlopen('https://www.emergentmind.com/')\n",
    "    #html = website.text\n",
    "    links = re.findall('href=\".*post.*\"', html)\n",
    "    new_pages = [link.split(r'\"')[1] for link in links if (\"/tagged/\" not in link) & (\"#comments\" not in link)]\n",
    "    links_filtered.extend(new_pages)\n",
    "    found_pages = len(new_pages)\n",
    "    page_num += 1\n",
    "    \n",
    "print(len(links_filtered))"
   ]
  },
  {
   "cell_type": "code",
   "execution_count": 2,
   "metadata": {},
   "outputs": [],
   "source": [
    "split_text = text.split(\"Human\")[1][7:].split(\"ChatGPT:\")\n",
    "prompt = html2text(split_text[0])\n",
    "answer = html2text(split_text[1].split(r\"</div>\")[0])"
   ]
  },
  {
   "cell_type": "code",
   "execution_count": 36,
   "metadata": {},
   "outputs": [
    {
     "name": "stdout",
     "output_type": "stream",
     "text": [
      "662\n"
     ]
    }
   ],
   "source": [
    "print(len(links_filtered))"
   ]
  },
  {
   "cell_type": "code",
   "execution_count": null,
   "metadata": {},
   "outputs": [
    {
     "ename": "",
     "evalue": "",
     "output_type": "error",
     "traceback": [
      "\u001b[1;31mnotebook controller is DISPOSED. \n",
      "\u001b[1;31mView Jupyter <a href='command:jupyter.viewOutput'>log</a> for further details."
     ]
    }
   ],
   "source": []
  }
 ],
 "metadata": {
  "kernelspec": {
   "display_name": "venv_ml",
   "language": "python",
   "name": "python3"
  },
  "language_info": {
   "codemirror_mode": {
    "name": "ipython",
    "version": 3
   },
   "file_extension": ".py",
   "mimetype": "text/x-python",
   "name": "python",
   "nbconvert_exporter": "python",
   "pygments_lexer": "ipython3",
   "version": "3.8.7"
  },
  "orig_nbformat": 4,
  "vscode": {
   "interpreter": {
    "hash": "eb38368d157c5b8cd9b23e2231df692ee70512e1e964f7de5a365034aa5be2db"
   }
  }
 },
 "nbformat": 4,
 "nbformat_minor": 2
}
